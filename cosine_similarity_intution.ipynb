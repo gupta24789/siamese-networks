{
  "cells": [
    {
      "cell_type": "markdown",
      "metadata": {
        "id": "view-in-github",
        "colab_type": "text"
      },
      "source": [
        "<a href=\"https://colab.research.google.com/github/gupta24789/siamese-networks/blob/main/cosine_similarity_intution.ipynb\" target=\"_parent\"><img src=\"https://colab.research.google.com/assets/colab-badge.svg\" alt=\"Open In Colab\"/></a>"
      ]
    },
    {
      "cell_type": "markdown",
      "metadata": {
        "id": "2NHvB0ZM5C6F"
      },
      "source": [
        "- before calculating dot product if you will normalize the vector by l2 norm then cosine similarity and dot product will be same only"
      ]
    },
    {
      "cell_type": "code",
      "execution_count": null,
      "metadata": {
        "id": "6R7uShlS5C6I"
      },
      "outputs": [],
      "source": [
        "import torch\n",
        "import numpy as np\n",
        "from sklearn.metrics.pairwise import cosine_similarity\n",
        "from sklearn.preprocessing import normalize"
      ]
    },
    {
      "cell_type": "code",
      "execution_count": null,
      "metadata": {
        "id": "SyRpoyL25C6K"
      },
      "outputs": [],
      "source": [
        "np.random.seed(121)"
      ]
    },
    {
      "cell_type": "code",
      "execution_count": null,
      "metadata": {
        "id": "Fbla7cnu5C6K"
      },
      "outputs": [],
      "source": [
        "a = np.random.random((2,5))\n",
        "b = np.random.random((2,5))"
      ]
    },
    {
      "cell_type": "code",
      "execution_count": null,
      "metadata": {
        "id": "4VOJ-GqQ5C6L",
        "outputId": "b82381d5-448d-4207-c858-97e903da6644"
      },
      "outputs": [
        {
          "data": {
            "text/plain": [
              "array([[0.11133083, 0.21076757, 0.23296249, 0.15194456, 0.83017814],\n",
              "       [0.40791941, 0.5557906 , 0.74552394, 0.24849976, 0.9686594 ]])"
            ]
          },
          "execution_count": 4,
          "metadata": {},
          "output_type": "execute_result"
        }
      ],
      "source": [
        "a"
      ]
    },
    {
      "cell_type": "code",
      "execution_count": null,
      "metadata": {
        "id": "kgC1Rm8N5C6M",
        "outputId": "bbe93305-5c12-4ebd-8325-911285174cfb"
      },
      "outputs": [
        {
          "data": {
            "text/plain": [
              "array([[0.95268418, 0.48984885, 0.01829731, 0.85760612, 0.40493829],\n",
              "       [0.62247394, 0.29537149, 0.92958852, 0.4056155 , 0.56730065]])"
            ]
          },
          "execution_count": 5,
          "metadata": {},
          "output_type": "execute_result"
        }
      ],
      "source": [
        "b"
      ]
    },
    {
      "cell_type": "code",
      "execution_count": null,
      "metadata": {
        "id": "2NsHKU1A5C6N",
        "outputId": "11092c02-28b1-45b6-9d7a-fb026fee7bb2"
      },
      "outputs": [
        {
          "data": {
            "text/plain": [
              "array([[0.52377609, 0.71841761],\n",
              "       [0.6276227 , 0.91482373]])"
            ]
          },
          "execution_count": 6,
          "metadata": {},
          "output_type": "execute_result"
        }
      ],
      "source": [
        "cosine_similarity(a,b)"
      ]
    },
    {
      "cell_type": "markdown",
      "metadata": {
        "id": "jJtmSNHk5C6N"
      },
      "source": [
        "## Numpy normalize"
      ]
    },
    {
      "cell_type": "code",
      "execution_count": null,
      "metadata": {
        "id": "sTtRXEXm5C6O",
        "outputId": "c07bf469-b844-4d08-bfed-101bf340518f"
      },
      "outputs": [
        {
          "data": {
            "text/plain": [
              "array([[0.68004946, 0.88070619],\n",
              "       [1.27987503, 1.76143087]])"
            ]
          },
          "execution_count": 18,
          "metadata": {},
          "output_type": "execute_result"
        }
      ],
      "source": [
        "## unnormalize vector\n",
        "np.dot(a, b.T)"
      ]
    },
    {
      "cell_type": "code",
      "execution_count": null,
      "metadata": {
        "id": "SOGVNbgj5C6O",
        "outputId": "12e9782b-b133-4407-ad01-7d0f575d0ccb"
      },
      "outputs": [
        {
          "data": {
            "text/plain": [
              "array([[0.52377609, 0.71841761],\n",
              "       [0.6276227 , 0.91482373]])"
            ]
          },
          "execution_count": 19,
          "metadata": {},
          "output_type": "execute_result"
        }
      ],
      "source": [
        "## After l2 norm : dot product is equivalent to the cosine similarity\n",
        "normalize_a = normalize(a, norm ='l2')\n",
        "normalize_b = normalize(b, norm ='l2')\n",
        "np.dot(normalize_a, normalize_b.T)"
      ]
    },
    {
      "cell_type": "markdown",
      "metadata": {
        "id": "15eLtxH25C6P"
      },
      "source": [
        "## Custom Normalize"
      ]
    },
    {
      "cell_type": "code",
      "execution_count": null,
      "metadata": {
        "id": "lS1VFIjf5C6Q"
      },
      "outputs": [],
      "source": [
        "def normalize_l1(a):\n",
        "    return a / np.linalg.norm(a)\n",
        "\n",
        "def normalize_l2(a):\n",
        "    return a / np.linalg.norm(a,axis=-1, keepdims=True)\n",
        "\n",
        "def normalize_l2_(x):\n",
        "    return x / np.sqrt(np.sum(x * x, axis=-1, keepdims=True))"
      ]
    },
    {
      "cell_type": "code",
      "execution_count": null,
      "metadata": {
        "id": "lRS81in45C6Q",
        "outputId": "8b7cd9e8-237f-4177-d58e-8ba20624a509"
      },
      "outputs": [
        {
          "data": {
            "text/plain": [
              "array([[0.52377609, 0.71841761],\n",
              "       [0.6276227 , 0.91482373]])"
            ]
          },
          "execution_count": 14,
          "metadata": {},
          "output_type": "execute_result"
        }
      ],
      "source": [
        "normalize_a = normalize_l2(a)\n",
        "normalize_b = normalize_l2(b)\n",
        "np.dot(normalize_a, normalize_b.T)"
      ]
    },
    {
      "cell_type": "code",
      "execution_count": null,
      "metadata": {
        "id": "5wkd7cI15C6R",
        "outputId": "6bb4b603-b712-4011-c054-d6a33143f33e"
      },
      "outputs": [
        {
          "data": {
            "text/plain": [
              "array([[0.52377609, 0.71841761],\n",
              "       [0.6276227 , 0.91482373]])"
            ]
          },
          "execution_count": 15,
          "metadata": {},
          "output_type": "execute_result"
        }
      ],
      "source": [
        "normalize_a = normalize_l2_(a)\n",
        "normalize_b = normalize_l2_(b)\n",
        "np.dot(normalize_a, normalize_b.T)"
      ]
    },
    {
      "cell_type": "markdown",
      "metadata": {
        "id": "ZaY1Rvcs5C6S"
      },
      "source": [
        "## Torch"
      ]
    },
    {
      "cell_type": "code",
      "execution_count": null,
      "metadata": {
        "id": "AViNbWw_5C6S",
        "outputId": "f6a1716b-ca5a-4468-fa3e-c2be41ba0638"
      },
      "outputs": [
        {
          "data": {
            "text/plain": [
              "tensor([[0.5238, 0.7184],\n",
              "        [0.6276, 0.9148]], dtype=torch.float64)"
            ]
          },
          "execution_count": 16,
          "metadata": {},
          "output_type": "execute_result"
        }
      ],
      "source": [
        "## Torch Implementation\n",
        "# p = 1 => l1 norm\n",
        "# p = 2 => l2 norm\n",
        "normalize_a = torch.nn.functional.normalize(torch.tensor(a), p = 2)\n",
        "normalize_b = torch.nn.functional.normalize(torch.tensor(b), p = 2)\n",
        "torch.matmul(normalize_a, normalize_b.T)"
      ]
    },
    {
      "cell_type": "code",
      "execution_count": null,
      "metadata": {
        "id": "rQ8UcLlK5C6T"
      },
      "outputs": [],
      "source": []
    }
  ],
  "metadata": {
    "kernelspec": {
      "display_name": "lighting",
      "language": "python",
      "name": "python3"
    },
    "language_info": {
      "codemirror_mode": {
        "name": "ipython",
        "version": 3
      },
      "file_extension": ".py",
      "mimetype": "text/x-python",
      "name": "python",
      "nbconvert_exporter": "python",
      "pygments_lexer": "ipython3",
      "version": "3.8.18"
    },
    "colab": {
      "provenance": [],
      "include_colab_link": true
    }
  },
  "nbformat": 4,
  "nbformat_minor": 0
}