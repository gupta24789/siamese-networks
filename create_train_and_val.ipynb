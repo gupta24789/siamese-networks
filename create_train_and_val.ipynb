{
  "cells": [
    {
      "cell_type": "markdown",
      "metadata": {
        "id": "view-in-github",
        "colab_type": "text"
      },
      "source": [
        "<a href=\"https://colab.research.google.com/github/gupta24789/siamese-networks/blob/main/create_train_and_val.ipynb\" target=\"_parent\"><img src=\"https://colab.research.google.com/assets/colab-badge.svg\" alt=\"Open In Colab\"/></a>"
      ]
    },
    {
      "cell_type": "code",
      "execution_count": null,
      "metadata": {
        "id": "8oqc4lB4wpUz"
      },
      "outputs": [],
      "source": [
        "# !wget https://github.com/gupta24789/siamese-networks/raw/main/raw_data.zip\n",
        "# !unzip raw_data.zip"
      ]
    },
    {
      "cell_type": "code",
      "execution_count": null,
      "metadata": {
        "id": "UzZT_ycCwpU0"
      },
      "outputs": [],
      "source": [
        "import pandas as pd\n",
        "from pathlib import Path\n",
        "from sklearn.model_selection import train_test_split"
      ]
    },
    {
      "cell_type": "code",
      "execution_count": null,
      "metadata": {
        "id": "tkd_2qkswpU0"
      },
      "outputs": [],
      "source": [
        "## Directory\n",
        "data_dir = Path(\"data\")\n",
        "data_dir.mkdir(exist_ok=True)"
      ]
    },
    {
      "cell_type": "code",
      "execution_count": null,
      "metadata": {
        "id": "WkgIWFkDwpU1",
        "outputId": "514ca4b1-90f3-4c0c-f44d-262df4a054bd"
      },
      "outputs": [
        {
          "name": "stdout",
          "output_type": "stream",
          "text": [
            "shape : (404351, 6)\n"
          ]
        }
      ],
      "source": [
        "## Read Data\n",
        "df = pd.read_csv(\"raw_data/questions.csv\")\n",
        "print(f'shape : {df.shape}')"
      ]
    },
    {
      "cell_type": "code",
      "execution_count": null,
      "metadata": {
        "id": "ohOrXcxzwpU1",
        "outputId": "5b4e61a6-ddba-40a4-d977-d282f7a39b1b"
      },
      "outputs": [
        {
          "data": {
            "text/html": [
              "<div>\n",
              "<style scoped>\n",
              "    .dataframe tbody tr th:only-of-type {\n",
              "        vertical-align: middle;\n",
              "    }\n",
              "\n",
              "    .dataframe tbody tr th {\n",
              "        vertical-align: top;\n",
              "    }\n",
              "\n",
              "    .dataframe thead th {\n",
              "        text-align: right;\n",
              "    }\n",
              "</style>\n",
              "<table border=\"1\" class=\"dataframe\">\n",
              "  <thead>\n",
              "    <tr style=\"text-align: right;\">\n",
              "      <th></th>\n",
              "      <th>id</th>\n",
              "      <th>qid1</th>\n",
              "      <th>qid2</th>\n",
              "      <th>question1</th>\n",
              "      <th>question2</th>\n",
              "      <th>is_duplicate</th>\n",
              "    </tr>\n",
              "  </thead>\n",
              "  <tbody>\n",
              "    <tr>\n",
              "      <th>0</th>\n",
              "      <td>0</td>\n",
              "      <td>1</td>\n",
              "      <td>2</td>\n",
              "      <td>What is the step by step guide to invest in sh...</td>\n",
              "      <td>What is the step by step guide to invest in sh...</td>\n",
              "      <td>0</td>\n",
              "    </tr>\n",
              "    <tr>\n",
              "      <th>1</th>\n",
              "      <td>1</td>\n",
              "      <td>3</td>\n",
              "      <td>4</td>\n",
              "      <td>What is the story of Kohinoor (Koh-i-Noor) Dia...</td>\n",
              "      <td>What would happen if the Indian government sto...</td>\n",
              "      <td>0</td>\n",
              "    </tr>\n",
              "    <tr>\n",
              "      <th>2</th>\n",
              "      <td>2</td>\n",
              "      <td>5</td>\n",
              "      <td>6</td>\n",
              "      <td>How can I increase the speed of my internet co...</td>\n",
              "      <td>How can Internet speed be increased by hacking...</td>\n",
              "      <td>0</td>\n",
              "    </tr>\n",
              "    <tr>\n",
              "      <th>3</th>\n",
              "      <td>3</td>\n",
              "      <td>7</td>\n",
              "      <td>8</td>\n",
              "      <td>Why am I mentally very lonely? How can I solve...</td>\n",
              "      <td>Find the remainder when [math]23^{24}[/math] i...</td>\n",
              "      <td>0</td>\n",
              "    </tr>\n",
              "    <tr>\n",
              "      <th>4</th>\n",
              "      <td>4</td>\n",
              "      <td>9</td>\n",
              "      <td>10</td>\n",
              "      <td>Which one dissolve in water quikly sugar, salt...</td>\n",
              "      <td>Which fish would survive in salt water?</td>\n",
              "      <td>0</td>\n",
              "    </tr>\n",
              "  </tbody>\n",
              "</table>\n",
              "</div>"
            ],
            "text/plain": [
              "   id  qid1  qid2                                          question1  \\\n",
              "0   0     1     2  What is the step by step guide to invest in sh...   \n",
              "1   1     3     4  What is the story of Kohinoor (Koh-i-Noor) Dia...   \n",
              "2   2     5     6  How can I increase the speed of my internet co...   \n",
              "3   3     7     8  Why am I mentally very lonely? How can I solve...   \n",
              "4   4     9    10  Which one dissolve in water quikly sugar, salt...   \n",
              "\n",
              "                                           question2  is_duplicate  \n",
              "0  What is the step by step guide to invest in sh...             0  \n",
              "1  What would happen if the Indian government sto...             0  \n",
              "2  How can Internet speed be increased by hacking...             0  \n",
              "3  Find the remainder when [math]23^{24}[/math] i...             0  \n",
              "4            Which fish would survive in salt water?             0  "
            ]
          },
          "execution_count": 25,
          "metadata": {},
          "output_type": "execute_result"
        }
      ],
      "source": [
        "df.head()"
      ]
    },
    {
      "cell_type": "code",
      "execution_count": null,
      "metadata": {
        "id": "_ZUzDY0_wpU1",
        "outputId": "f87bebfd-874f-4e38-c758-148083adf30a"
      },
      "outputs": [
        {
          "data": {
            "text/plain": [
              "is_duplicate\n",
              "0    255045\n",
              "1    149306\n",
              "Name: count, dtype: int64"
            ]
          },
          "execution_count": 26,
          "metadata": {},
          "output_type": "execute_result"
        }
      ],
      "source": [
        "df.is_duplicate.value_counts()"
      ]
    },
    {
      "cell_type": "code",
      "execution_count": null,
      "metadata": {
        "id": "XbE51m9OwpU2",
        "outputId": "67a3aac2-53a4-4745-9400-2396cbd17e98"
      },
      "outputs": [
        {
          "data": {
            "text/plain": [
              "is_duplicate\n",
              "0    0.630752\n",
              "1    0.369248\n",
              "Name: count, dtype: float64"
            ]
          },
          "execution_count": 27,
          "metadata": {},
          "output_type": "execute_result"
        }
      ],
      "source": [
        "df.is_duplicate.value_counts()/df.shape[0]"
      ]
    },
    {
      "cell_type": "code",
      "execution_count": null,
      "metadata": {
        "id": "kw49PmhGwpU2"
      },
      "outputs": [],
      "source": [
        "## split the data usign stratify sampling\n",
        "train_df, test_df = train_test_split(df,test_size=0.3, random_state=121, stratify=df.is_duplicate)"
      ]
    },
    {
      "cell_type": "code",
      "execution_count": null,
      "metadata": {
        "id": "Ku-rEonDwpU2",
        "outputId": "66484d5b-8fab-46db-b1a9-519653e57860"
      },
      "outputs": [
        {
          "name": "stdout",
          "output_type": "stream",
          "text": [
            "train shape : (283045, 6)\n",
            "test shape : (121306, 6)\n"
          ]
        }
      ],
      "source": [
        "print(f'train shape : {train_df.shape}')\n",
        "print(f'test shape : {test_df.shape}')"
      ]
    },
    {
      "cell_type": "code",
      "execution_count": null,
      "metadata": {
        "id": "KQheKJigwpU2",
        "outputId": "f0602839-033a-498f-dad6-4abb24c55e1a"
      },
      "outputs": [
        {
          "data": {
            "text/plain": [
              "is_duplicate\n",
              "0    0.630751\n",
              "1    0.369249\n",
              "Name: count, dtype: float64"
            ]
          },
          "execution_count": 36,
          "metadata": {},
          "output_type": "execute_result"
        }
      ],
      "source": [
        "train_df.is_duplicate.value_counts()/len(train_df)"
      ]
    },
    {
      "cell_type": "code",
      "execution_count": null,
      "metadata": {
        "id": "xRjs3JuiwpU2",
        "outputId": "611351bd-50fd-480b-fb0f-ea8b30061b39"
      },
      "outputs": [
        {
          "data": {
            "text/plain": [
              "is_duplicate\n",
              "0    0.630752\n",
              "1    0.369248\n",
              "Name: count, dtype: float64"
            ]
          },
          "execution_count": 37,
          "metadata": {},
          "output_type": "execute_result"
        }
      ],
      "source": [
        "test_df.is_duplicate.value_counts()/len(test_df)"
      ]
    },
    {
      "cell_type": "code",
      "execution_count": null,
      "metadata": {
        "id": "Cp7YS5H_wpU2",
        "outputId": "e2ee4f7c-0e0d-4705-d565-27162c1fee82"
      },
      "outputs": [
        {
          "data": {
            "text/html": [
              "<div>\n",
              "<style scoped>\n",
              "    .dataframe tbody tr th:only-of-type {\n",
              "        vertical-align: middle;\n",
              "    }\n",
              "\n",
              "    .dataframe tbody tr th {\n",
              "        vertical-align: top;\n",
              "    }\n",
              "\n",
              "    .dataframe thead th {\n",
              "        text-align: right;\n",
              "    }\n",
              "</style>\n",
              "<table border=\"1\" class=\"dataframe\">\n",
              "  <thead>\n",
              "    <tr style=\"text-align: right;\">\n",
              "      <th></th>\n",
              "      <th>id</th>\n",
              "      <th>qid1</th>\n",
              "      <th>qid2</th>\n",
              "      <th>question1</th>\n",
              "      <th>question2</th>\n",
              "      <th>is_duplicate</th>\n",
              "    </tr>\n",
              "  </thead>\n",
              "  <tbody>\n",
              "    <tr>\n",
              "      <th>27186</th>\n",
              "      <td>27186</td>\n",
              "      <td>54210</td>\n",
              "      <td>54211</td>\n",
              "      <td>What will happen if Google starts charging for...</td>\n",
              "      <td>Is it normal to Google search every question y...</td>\n",
              "      <td>0</td>\n",
              "    </tr>\n",
              "    <tr>\n",
              "      <th>246439</th>\n",
              "      <td>246439</td>\n",
              "      <td>485308</td>\n",
              "      <td>485309</td>\n",
              "      <td>Why are bats associated with vampires?</td>\n",
              "      <td>Do vampires get periods?</td>\n",
              "      <td>0</td>\n",
              "    </tr>\n",
              "    <tr>\n",
              "      <th>298392</th>\n",
              "      <td>298392</td>\n",
              "      <td>586093</td>\n",
              "      <td>586094</td>\n",
              "      <td>How can I start learning data science?</td>\n",
              "      <td>How can I start learning data science and beco...</td>\n",
              "      <td>1</td>\n",
              "    </tr>\n",
              "  </tbody>\n",
              "</table>\n",
              "</div>"
            ],
            "text/plain": [
              "            id    qid1    qid2  \\\n",
              "27186    27186   54210   54211   \n",
              "246439  246439  485308  485309   \n",
              "298392  298392  586093  586094   \n",
              "\n",
              "                                                question1  \\\n",
              "27186   What will happen if Google starts charging for...   \n",
              "246439             Why are bats associated with vampires?   \n",
              "298392             How can I start learning data science?   \n",
              "\n",
              "                                                question2  is_duplicate  \n",
              "27186   Is it normal to Google search every question y...             0  \n",
              "246439                           Do vampires get periods?             0  \n",
              "298392  How can I start learning data science and beco...             1  "
            ]
          },
          "execution_count": 38,
          "metadata": {},
          "output_type": "execute_result"
        }
      ],
      "source": [
        "train_df.head(3)"
      ]
    },
    {
      "cell_type": "code",
      "execution_count": null,
      "metadata": {
        "id": "QKCpfur1wpU3",
        "outputId": "ad57bfbf-bd77-4230-e1bd-4130dd8c23b4"
      },
      "outputs": [
        {
          "data": {
            "text/html": [
              "<div>\n",
              "<style scoped>\n",
              "    .dataframe tbody tr th:only-of-type {\n",
              "        vertical-align: middle;\n",
              "    }\n",
              "\n",
              "    .dataframe tbody tr th {\n",
              "        vertical-align: top;\n",
              "    }\n",
              "\n",
              "    .dataframe thead th {\n",
              "        text-align: right;\n",
              "    }\n",
              "</style>\n",
              "<table border=\"1\" class=\"dataframe\">\n",
              "  <thead>\n",
              "    <tr style=\"text-align: right;\">\n",
              "      <th></th>\n",
              "      <th>id</th>\n",
              "      <th>qid1</th>\n",
              "      <th>qid2</th>\n",
              "      <th>question1</th>\n",
              "      <th>question2</th>\n",
              "      <th>is_duplicate</th>\n",
              "    </tr>\n",
              "  </thead>\n",
              "  <tbody>\n",
              "    <tr>\n",
              "      <th>291513</th>\n",
              "      <td>291513</td>\n",
              "      <td>572739</td>\n",
              "      <td>572740</td>\n",
              "      <td>What Rolling Stone song has the lyrics “oh and...</td>\n",
              "      <td>What's the point in living if you're so depres...</td>\n",
              "      <td>0</td>\n",
              "    </tr>\n",
              "    <tr>\n",
              "      <th>58652</th>\n",
              "      <td>58652</td>\n",
              "      <td>116675</td>\n",
              "      <td>76915</td>\n",
              "      <td>Do you have a Business-Plan to help the poor p...</td>\n",
              "      <td>Suppose you run a mobile business which genera...</td>\n",
              "      <td>0</td>\n",
              "    </tr>\n",
              "    <tr>\n",
              "      <th>118294</th>\n",
              "      <td>118294</td>\n",
              "      <td>139357</td>\n",
              "      <td>234460</td>\n",
              "      <td>Where's a good university to study Computer Sc...</td>\n",
              "      <td>What are some good UK universities in computer...</td>\n",
              "      <td>1</td>\n",
              "    </tr>\n",
              "  </tbody>\n",
              "</table>\n",
              "</div>"
            ],
            "text/plain": [
              "            id    qid1    qid2  \\\n",
              "291513  291513  572739  572740   \n",
              "58652    58652  116675   76915   \n",
              "118294  118294  139357  234460   \n",
              "\n",
              "                                                question1  \\\n",
              "291513  What Rolling Stone song has the lyrics “oh and...   \n",
              "58652   Do you have a Business-Plan to help the poor p...   \n",
              "118294  Where's a good university to study Computer Sc...   \n",
              "\n",
              "                                                question2  is_duplicate  \n",
              "291513  What's the point in living if you're so depres...             0  \n",
              "58652   Suppose you run a mobile business which genera...             0  \n",
              "118294  What are some good UK universities in computer...             1  "
            ]
          },
          "execution_count": 39,
          "metadata": {},
          "output_type": "execute_result"
        }
      ],
      "source": [
        "test_df.head(3)"
      ]
    },
    {
      "cell_type": "code",
      "execution_count": null,
      "metadata": {
        "id": "wx5sfu3MwpU3"
      },
      "outputs": [],
      "source": [
        "## Save data to disk\n",
        "train_df = train_df.reset_index(drop = True)\n",
        "test_df = test_df.reset_index(drop = True)\n",
        "\n",
        "train_df.to_csv(data_dir/'train.csv', index = False)\n",
        "test_df.to_csv(data_dir/'test.csv', index= False)"
      ]
    }
  ],
  "metadata": {
    "kernelspec": {
      "display_name": "lighting",
      "language": "python",
      "name": "python3"
    },
    "language_info": {
      "codemirror_mode": {
        "name": "ipython",
        "version": 3
      },
      "file_extension": ".py",
      "mimetype": "text/x-python",
      "name": "python",
      "nbconvert_exporter": "python",
      "pygments_lexer": "ipython3",
      "version": "3.8.18"
    },
    "colab": {
      "provenance": [],
      "include_colab_link": true
    }
  },
  "nbformat": 4,
  "nbformat_minor": 0
}